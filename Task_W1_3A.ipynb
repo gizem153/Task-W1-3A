{
  "nbformat": 4,
  "nbformat_minor": 0,
  "metadata": {
    "colab": {
      "provenance": []
    },
    "kernelspec": {
      "name": "python3",
      "display_name": "Python 3"
    },
    "language_info": {
      "name": "python"
    }
  },
  "cells": [
    {
      "cell_type": "code",
      "execution_count": 1,
      "metadata": {
        "colab": {
          "base_uri": "https://localhost:8080/"
        },
        "id": "xHPzqEO-txWH",
        "outputId": "bf674112-479d-4f20-b876-d38fa500a818"
      },
      "outputs": [
        {
          "output_type": "stream",
          "name": "stdout",
          "text": [
            "[2, 5, 11, 19, 26, 35]\n",
            "[12, 14, 20, 31, 35, 44]\n",
            "[8, 13, 24, 32, 33, 36]\n",
            "[11, 15, 28, 36, 40, 46]\n",
            "[4, 7, 14, 15, 22, 24]\n",
            "[19, 23, 29, 33, 39, 41]\n",
            "[11, 12, 14, 19, 32, 48]\n",
            "[5, 11, 14, 20, 28, 44]\n"
          ]
        }
      ],
      "source": [
        "import random\n",
        "sayilar=[]\n",
        "kolon=1\n",
        "while (True):\n",
        "    sayi=random.randint(1,49)\n",
        "    if len(sayilar)==6:\n",
        "        sayilar.sort()\n",
        "        print(sayilar)\n",
        "        kolon+=1\n",
        "        sayilar=[]\n",
        "        if kolon==9:\n",
        "            break\n",
        "\n",
        "    else:\n",
        "        if not (sayi in sayilar):\n",
        "            sayilar.append(sayi)\n"
      ]
    }
  ]
}